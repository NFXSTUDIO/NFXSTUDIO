{
 "cells": [
  {
   "cell_type": "markdown",
   "metadata": {},
   "source": [
    "<img src=\"images/ipsa_logo.png\" width=\"100\" align=\"right\">\n",
    "\n",
    "# Ma422- 2024/2025\n",
    "\n",
    "# <font color='black'> Introduction to Machine Learning</font>\n",
    "\n",
    "---\n",
    "\n",
    "1. [Support Vector Machine with different kernels](#NN)\n",
    "  \n",
    "2. [Support Vector Machine with scikit-learn](#logit)\n",
    "\n",
    "\n",
    "---"
   ]
  },
  {
   "cell_type": "markdown",
   "metadata": {},
   "source": [
    "The work has to be done in groups of 4 maximum. Each notebook must include student names below:\n",
    "#### Students:   "
   ]
  },
  {
   "cell_type": "markdown",
   "metadata": {},
   "source": [
    "## <font color='black'>Exercise 1: SVMs with different kernels</font>\n",
    "\n",
    "---\n",
    "\n",
    "The objective of this exercise is to introduce and code the SVMs algorithm for classification."
   ]
  },
  {
   "cell_type": "markdown",
   "metadata": {},
   "source": [
    "First we will import the packages that we will need throughout the notebook."
   ]
  },
  {
   "cell_type": "code",
   "execution_count": 2,
   "metadata": {},
   "outputs": [],
   "source": [
    "import os\n",
    "import numpy as np\n",
    "from matplotlib import pyplot\n",
    "from scipy import optimize\n",
    "from scipy.io import loadmat\n",
    "import utils\n",
    "\n",
    "# tells matplotlib to embed plots within the notebook\n",
    "%matplotlib inline"
   ]
  },
  {
   "cell_type": "markdown",
   "metadata": {},
   "source": [
    "### SVMs with Linear Kernel"
   ]
  },
  {
   "cell_type": "markdown",
   "metadata": {},
   "source": [
    "We will begin by with a simple 2D example dataset which can be separated by a linear boundary. Experimenting with these datasets will help you gain an intuition of how SVMs work. "
   ]
  },
  {
   "cell_type": "code",
   "execution_count": 4,
   "metadata": {},
   "outputs": [
    {
     "data": {
      "image/png": "[encoded data removed]",
      "text/plain": [
       "<Figure size 432x288 with 1 Axes>"
      ]
     },
     "metadata": {
      "needs_background": "light"
     },
     "output_type": "display_data"
    }
   ],
   "source": [
    "data = loadmat(os.path.join('data', 'ex1data1.mat'))\n",
    "X, y = data['X'], data['y'][:, 0]\n",
    "\n",
    "# Plot training data\n",
    "utils.plotData(X, y)"
   ]
  },
  {
   "cell_type": "markdown",
   "metadata": {},
   "source": [
    "Notice that there is an outlier positive example on the far left at about (0:1; 4:1). As part of this exercise, you will also see how\n",
    "this outlier affects the SVM decision boundary."
   ]
  },
  {
   "cell_type": "markdown",
   "metadata": {},
   "source": [
    "The decision function of a support vector machine classifier is obtained through the minimization of the following optimization problem:\n",
    "\n",
    "$$min_{f} C \\sum_{i=1}^n\\max(0,1-y_if(x_i))+||f||^2$$ \n",
    "\n",
    "where $C$ is a regularization parameter that balances the data fitting (left hand term) and the regularization (right hand term). It plays a role similar to $\\frac{1}{\\lambda}$ that we were using in the regularization of the logistic regression. \n",
    "\n",
    "You will now study the effect of the parameter $C$. \n",
    "Firstly, you will train the SVM model with $C = 1$. You should find that the SVM puts the decision boundary in the gap between the two populations missclassifying the data point on the far left.\n"
   ]
  },
  {
   "cell_type": "code",
   "execution_count": null,
   "metadata": {},
   "outputs": [],
   "source": [
    "# You should try to change the C value below and see how the decision\n",
    "# boundary varies (e.g., try C = 1000)\n",
    "C = 1\n",
    "\n",
    "model = utils.svmTrain(X, y, C, utils.linearKernel, 1e-3, 20)\n",
    "utils.visualizeBoundaryLinear(X, y, model)"
   ]
  },
  {
   "cell_type": "markdown",
   "metadata": {},
   "source": [
    "You can try now different values of $C$ and run the SVM training again. Explain what do you obtain. "
   ]
  },
  {
   "cell_type": "code",
   "execution_count": null,
   "metadata": {},
   "outputs": [],
   "source": [
    "# ====================== YOUR CODE HERE =======================\n",
    "   \n",
    "    \n",
    "# ============================================================="
   ]
  },
  {
   "cell_type": "markdown",
   "metadata": {},
   "source": [
    "### SVMs with Gaussian Kernel"
   ]
  },
  {
   "cell_type": "markdown",
   "metadata": {},
   "source": [
    "In this part of the exercise, you will moove for non-linear classification. In particular, SVMs with Gaussian kernels will be exploited on datasets that are not linearly separable.\n",
    "\n",
    "#### Gaussian Kernel\n",
    "\n",
    "In order to obtain non-linear decision boundaries with the SVM, we need to first implement a Gaussian kernel. We define the Gaussian kernel as a similarity function between a pair of examples,\n",
    "($x^{(i)}$, $x^{(j)}$):\n",
    "\n",
    "$$K_{Gaussian}(x^{(i)},x^{(j)})=\\exp(-\\frac{||x^{(i)}-x^{(j)}||^2}{2\\sigma^2})=exp{(-\\frac{\\sum_k^n(x_k^{(i)}-x_k^{(j)})^2}{2\\sigma^2})} $$\n",
    "\n",
    "The Gaussian kernel is parameterized by $\\sigma$, which determines how fast the similarity metric decreases as the examples are further apart.\n",
    "\n",
    "In the next cell, complete the code in `gaussianKernel`."
   ]
  },
  {
   "cell_type": "code",
   "execution_count": null,
   "metadata": {},
   "outputs": [],
   "source": [
    "#EDIT THIS CELL\n",
    "def gaussianKernel(x1, x2, sigma):\n",
    "    \"\"\"\n",
    "    Computes the radial basis function\n",
    "    Returns a radial basis function kernel between x1 and x2.\n",
    "    \n",
    "    Parameters\n",
    "    ----------\n",
    "    x1 :  numpy ndarray\n",
    "        A vector of size (n, ), representing the first datapoint.\n",
    "    \n",
    "    x2 : numpy ndarray\n",
    "        A vector of size (n, ), representing the second datapoint.\n",
    "    \n",
    "    sigma : float\n",
    "        The bandwidth parameter for the Gaussian kernel.\n",
    "\n",
    "    Returns\n",
    "    -------\n",
    "    sim : float\n",
    "        The computed RBF between the two provided data points.\n",
    "    \n",
    "    Instructions\n",
    "    ------------\n",
    "    Fill in this function to return the similarity between `x1` and `x2`\n",
    "    computed using a Gaussian kernel with bandwidth `sigma`.\n",
    "    \"\"\"\n",
    "    sim = 0\n",
    "    # ====================== YOUR CODE HERE ======================\n",
    "    \n",
    "    \n",
    "    \n",
    "\n",
    "    # ============================================================\n",
    "    return sim"
   ]
  },
  {
   "cell_type": "markdown",
   "metadata": {},
   "source": [
    "Once you have completed the function `gaussianKernel`, the following cell will test your kernel function on two provided examples and you should expect to see a value of 0.324652."
   ]
  },
  {
   "cell_type": "code",
   "execution_count": null,
   "metadata": {},
   "outputs": [],
   "source": [
    "x1 = np.array([1, 2, 1])\n",
    "x2 = np.array([0, 4, -1])\n",
    "sigma = 2\n",
    "\n",
    "sim = gaussianKernel(x1, x2, sigma)\n",
    "\n",
    "print('Gaussian Kernel between x1 = [1, 2, 1], x2 = [0, 4, -1], sigma = %0.2f:'\n",
    "      '\\n\\t%f\\n(for sigma = 2, this value should be about 0.324652)\\n' % (sigma, sim))"
   ]
  },
  {
   "cell_type": "markdown",
   "metadata": {},
   "source": [
    "### Example 1:\n",
    "Consider now the following dataset. "
   ]
  },
  {
   "cell_type": "code",
   "execution_count": 5,
   "metadata": {},
   "outputs": [
    {
     "data": {
      "image/png": "[encoded data removed]",
      "text/plain": [
       "<Figure size 432x288 with 1 Axes>"
      ]
     },
     "metadata": {
      "needs_background": "light"
     },
     "output_type": "display_data"
    }
   ],
   "source": [
    "# You will have X, y as keys in the dict data\n",
    "data = loadmat(os.path.join('data', 'ex1data2.mat'))\n",
    "X, y = data['X'], data['y'][:, 0]\n",
    "\n",
    "# Plot training data\n",
    "utils.plotData(X, y)"
   ]
  },
  {
   "cell_type": "markdown",
   "metadata": {},
   "source": [
    "You can notice that there is no linear decision boundary that separates the positive and negative examples for this dataset. However, by using the Gaussian kernel with the SVM, you will be able to learn a non-linear decision boundary that can perform reasonably well for the dataset. If you have correctly implemented the Gaussian kernel function, the following cell will proceed to train the SVM with the Gaussian kernel on this dataset."
   ]
  },
  {
   "cell_type": "code",
   "execution_count": null,
   "metadata": {},
   "outputs": [],
   "source": [
    "# SVM Parameters\n",
    "C = 1\n",
    "sigma = 0.1\n",
    "\n",
    "model= utils.svmTrain(X, y, C, gaussianKernel, args=(sigma,))\n",
    "utils.visualizeBoundary(X, y, model)"
   ]
  },
  {
   "cell_type": "markdown",
   "metadata": {},
   "source": [
    "### Example 2:\n",
    "To gain more practical skills on how to use a SVM with a Gaussian kernel, The code below will load and display a new dataset."
   ]
  },
  {
   "cell_type": "code",
   "execution_count": 3,
   "metadata": {},
   "outputs": [
    {
     "data": {
      "image/png": "[encoded data removed]",
      "text/plain": [
       "<Figure size 432x288 with 1 Axes>"
      ]
     },
     "metadata": {
      "needs_background": "light"
     },
     "output_type": "display_data"
    }
   ],
   "source": [
    "# You will have X, y as keys in the dict data\n",
    "data = loadmat(os.path.join('data', 'ex1data3.mat'))\n",
    "X, y, Xval,yval = data['X'], data['y'][:, 0], data['Xval'], data['yval'][:, 0]\n",
    "# Plot training data\n",
    "utils.plotData(X, y)"
   ]
  },
  {
   "cell_type": "markdown",
   "metadata": {},
   "source": [
    "In the provided dataset, you are given the variables X, y, Xval, yval. Your task is to use the cross validation set Xval, yval to determine the best $C$ and parameter $\\sigma$ to use. \n",
    "For both $C$ and $\\sigma$ we suggest trying values in multiplicative steps (e.g., 0.01, 0.03, 0.1, 0.3, 1, 3, 10, 30). Note that you should try all possible pairs of values for  $C$ and $\\sigma$. \n",
    "\n",
    "For example, if you try each of the 8 values listed above for $C$ and for $\\sigma$ , you would end up training and evaluating (on the cross validation set) a total of  $8^2=64$ different models. After you have determined the best $C$ and $\\sigma$ parameters to use, you should modify the code in `BestParams`, filling in the best parameters.\n",
    "\n",
    "Implementation tip: When implementing cross validation to select the best $C$ and $\\sigma$ parameter to use, you need to evaluate the error on the cross validation set. Recall that for classification, the error is defined as the fraction of the cross validation examples that were classified incorrectly. In python, you can compute this error using np.mean(predictions != yval) * 100), where predictions is a vector containing all the predictions from the SVM, and yval are the true labels from the cross validation set. You can use the svmPredict function to generate the predictions for the cross validation set."
   ]
  },
  {
   "cell_type": "code",
   "execution_count": null,
   "metadata": {},
   "outputs": [],
   "source": [
    "def BestParams(X, y, Xval, yval):\n",
    "    #BestPARAMS returns your choice of C and sigma for this part of the exercise\n",
    "    #where you select the optimal (C, sigma) learning parameters to use for SVM with RBF kernel\n",
    "    #You should complete this function to return the optimal C and sigma based on a cross-validation set.\n",
    "\n",
    "\n",
    "   #You need to return the following variables correctly.\n",
    "    C = 1;\n",
    "    sigma = 0.3;\n",
    "    # ====================== YOUR CODE HERE ======================\n",
    "   \n",
    "\n",
    " \n",
    "\n",
    "    # =============================================================\n",
    "    return C, sigma"
   ]
  },
  {
   "cell_type": "code",
   "execution_count": null,
   "metadata": {},
   "outputs": [],
   "source": [
    "C, sigma = BestParams(X, y, Xval, yval);"
   ]
  },
  {
   "cell_type": "code",
   "execution_count": null,
   "metadata": {},
   "outputs": [],
   "source": [
    "model= utils.svmTrain(X, y, C, gaussianKernel, args=(sigma,))\n",
    "utils.visualizeBoundary(X, y, model)"
   ]
  },
  {
   "cell_type": "markdown",
   "metadata": {},
   "source": [
    "## <font color='black'>Exercise 2: SVMs with scikit-learn</font>\n",
    "\n",
    "---"
   ]
  },
  {
   "cell_type": "markdown",
   "metadata": {},
   "source": [
    "The Digits dataset is a collection of images of handwritten digits (we have already used it in a previous lab). They can be loaded directly from scikit-learn."
   ]
  },
  {
   "cell_type": "code",
   "execution_count": 4,
   "metadata": {},
   "outputs": [],
   "source": [
    "from sklearn.datasets import load_digits\n",
    "digits = load_digits()\n",
    "X, y = digits.data, digits.target"
   ]
  },
  {
   "cell_type": "markdown",
   "metadata": {},
   "source": [
    "Use the Digits data to build a LinearSVC classifier and evaluate it. If the training time is too long, select a smaller part of the training base (for example 10000 samples). For what value of C do we obtain the best generalization results? Conclude. "
   ]
  },
  {
   "cell_type": "code",
   "execution_count": null,
   "metadata": {},
   "outputs": [],
   "source": [
    " # ====================== YOUR CODE HERE ======================\n",
    "   \n",
    "    \n",
    "\n",
    "\n",
    "\n",
    " # ============================================================"
   ]
  }
 ],
 "metadata": {
  "kernelspec": {
   "display_name": "Python 3",
   "language": "python",
   "name": "python3"
  },
  "language_info": {
   "codemirror_mode": {
    "name": "ipython",
    "version": 3
   },
   "file_extension": ".py",
   "mimetype": "text/x-python",
   "name": "python",
   "nbconvert_exporter": "python",
   "pygments_lexer": "ipython3",
   "version": "3.7.6"
  }
 },
 "nbformat": 4,
 "nbformat_minor": 4
}
